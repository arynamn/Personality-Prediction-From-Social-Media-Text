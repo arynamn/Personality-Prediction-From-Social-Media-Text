{
 "cells": [
  {
   "cell_type": "markdown",
   "metadata": {},
   "source": [
    "# RAW EXTRACT"
   ]
  },
  {
   "cell_type": "code",
   "execution_count": null,
   "metadata": {},
   "outputs": [],
   "source": [
    "import datetime\n",
    "import json\n",
    "import datetime\n",
    "try:\n",
    "    import tweepy\n",
    "except:\n",
    "    !pip install tweepy\n",
    "    import tweepy\n",
    "import re"
   ]
  },
  {
   "cell_type": "code",
   "execution_count": null,
   "metadata": {},
   "outputs": [],
   "source": [
    "def twitter_extract( twitter_ids, no_of_tweets ):\n",
    "    \n",
    "    consumer_key    = 'Sd08uC11SZLI8ruRhSYxe7DVj'\n",
    "    consumer_secret = '3IzjDnFPCirqHRgNXJkHeNE4u26DJM5bVVDrogWqmUXPmrmTe6'\n",
    "    access_key      = '897433926054039552-9dCfAeZNMlae5jck5lLh0JO2HS95dSl'\n",
    "    access_secret   = '3MDWXGwp2AEvyagOIjq0BVsk8kgtKJwTehxPdi1JiOFdA'\n",
    "    \n",
    "    auth = tweepy.OAuthHandler(consumer_key, consumer_secret) \n",
    "    auth.set_access_token(access_key, access_secret) \n",
    "    api = tweepy.API(auth, wait_on_rate_limit=True, wait_on_rate_limit_notify=True, compression=True)\n",
    "    \n",
    "    final_dict = {}\n",
    "    \n",
    "    count = 0\n",
    "    for twitter_id in twitter_ids:\n",
    "    \n",
    "        status_cursor    = tweepy.Cursor(\n",
    "            api.user_timeline, \n",
    "            screen_name  = twitter_id,\n",
    "            count        = no_of_tweets,\n",
    "            tweet_mode   = 'extended'\n",
    "        ).items(no_of_tweets)\n",
    "            \n",
    "        tweets = {}\n",
    "        for status in status_cursor:\n",
    "            date = status.created_at\n",
    "            date_str = date.strftime(\"%Y,%m,%d\")\n",
    "            tweets[date_str] = status._json['full_text']\n",
    "            \n",
    "        final_dict[twitter_id] = tweets\n",
    "        \n",
    "        count = count+1\n",
    "        print(count,'   ',twitter_id,' extraction done')\n",
    "    return final_dict      "
   ]
  },
  {
   "cell_type": "code",
   "execution_count": null,
   "metadata": {},
   "outputs": [],
   "source": [
    "# Add Persons Twitter Id in twitter_id_list before execution\n",
    "twitter_id_list = json.load( open( 'input_files/twitter_ids.json' ,'r' ))"
   ]
  },
  {
   "cell_type": "code",
   "execution_count": null,
   "metadata": {
    "scrolled": true
   },
   "outputs": [],
   "source": [
    "tweets_raw = twitter_extract(twitter_id_list, 2000)"
   ]
  },
  {
   "cell_type": "code",
   "execution_count": null,
   "metadata": {},
   "outputs": [],
   "source": [
    "import json\n",
    "#tweets_raw = json.load(open('extracted/tweets_raw.json', 'r', encoding='utf8'))\n",
    "dates_dict = json.load(open('input_files/country_dates.json', 'r'))\n",
    "\n",
    "for country in dates_dict.keys():\n",
    "    if dates_dict[country] != \"None\":\n",
    "        dates_dict[country]['start_pre']  = datetime.datetime.strptime(\n",
    "            dates_dict[country]['start_pre'] ,\"%Y,%m,%d\")\n",
    "        dates_dict[country]['end_pre']    = datetime.datetime.strptime(\n",
    "            dates_dict[country]['end_pre']   ,\"%Y,%m,%d\")\n",
    "        dates_dict[country]['start_post'] = datetime.datetime.strptime(\n",
    "            dates_dict[country]['start_post'],\"%Y,%m,%d\")\n",
    "        dates_dict[country]['end_post']   = datetime.datetime.strptime(\n",
    "            dates_dict[country]['end_post']  ,\"%Y,%m,%d\")"
   ]
  },
  {
   "cell_type": "code",
   "execution_count": null,
   "metadata": {
    "scrolled": true
   },
   "outputs": [],
   "source": [
    "tweets_pre_covid   = {}\n",
    "tweets_post_covid  = {}\n",
    "\n",
    "for person in tweets_raw.keys():\n",
    "    \n",
    "    country = twitter_id_list[person] \n",
    "    if( dates_dict[country] == 'None'):\n",
    "        country = 'default'\n",
    "    text_pre_dict  = {}\n",
    "    text_post_dict = {}\n",
    "    \n",
    "    for date in tweets_raw[person].keys():\n",
    "        date_text = datetime.datetime.strptime(date, '%Y,%m,%d')\n",
    "        if( date_text >= dates_dict[country]['start_pre'] and date_text <= dates_dict[country]['end_pre']  ):\n",
    "            text_pre_dict[date] = tweets_raw[person][date]\n",
    "        if( date_text >= dates_dict[country]['start_post'] and date_text <= dates_dict[country]['end_post']  ):\n",
    "            text_post_dict[date] = tweets_raw[person][date]\n",
    "    \n",
    "    if( text_pre_dict and text_post_dict):\n",
    "        tweets_pre_covid[person]  = text_pre_dict\n",
    "        tweets_post_covid[person] = text_post_dict\n",
    "    else:\n",
    "        print(person)"
   ]
  },
  {
   "cell_type": "code",
   "execution_count": null,
   "metadata": {},
   "outputs": [],
   "source": [
    "with open( 'extracted/tweets_pre_covid.json', 'w') as outfile:\n",
    "            json.dump(tweets_pre_covid, outfile)\n",
    "\n",
    "with open( 'extracted/tweets_post_covid.json', 'w') as outfile:\n",
    "            json.dump(tweets_post_covid, outfile)"
   ]
  },
  {
   "cell_type": "code",
   "execution_count": null,
   "metadata": {},
   "outputs": [],
   "source": []
  },
  {
   "cell_type": "code",
   "execution_count": null,
   "metadata": {},
   "outputs": [],
   "source": []
  },
  {
   "cell_type": "code",
   "execution_count": null,
   "metadata": {},
   "outputs": [],
   "source": []
  },
  {
   "cell_type": "code",
   "execution_count": null,
   "metadata": {},
   "outputs": [],
   "source": []
  },
  {
   "cell_type": "code",
   "execution_count": null,
   "metadata": {},
   "outputs": [],
   "source": []
  },
  {
   "cell_type": "code",
   "execution_count": null,
   "metadata": {},
   "outputs": [],
   "source": []
  }
 ],
 "metadata": {
  "kernelspec": {
   "display_name": "Python 3",
   "language": "python",
   "name": "python3"
  },
  "language_info": {
   "codemirror_mode": {
    "name": "ipython",
    "version": 3
   },
   "file_extension": ".py",
   "mimetype": "text/x-python",
   "name": "python",
   "nbconvert_exporter": "python",
   "pygments_lexer": "ipython3",
   "version": "3.7.10"
  }
 },
 "nbformat": 4,
 "nbformat_minor": 2
}
