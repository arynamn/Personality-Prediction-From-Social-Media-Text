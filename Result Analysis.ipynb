{
 "cells": [
  {
   "cell_type": "code",
   "execution_count": 1,
   "metadata": {},
   "outputs": [],
   "source": [
    "import pandas as pd\n",
    "import numpy as np"
   ]
  },
  {
   "cell_type": "code",
   "execution_count": 2,
   "metadata": {},
   "outputs": [],
   "source": [
    "def file_reader(file_location):\n",
    "    if(file_location.endswith('csv')):\n",
    "        return pd.read_csv( file_location , engine = 'python', index_col=0)\n",
    "    elif (file_location.endswith('tsv')):\n",
    "        return pd.read_csv( file_location , engine = 'python' ,sep = '\\t')"
   ]
  },
  {
   "cell_type": "code",
   "execution_count": 3,
   "metadata": {},
   "outputs": [],
   "source": [
    "models = [\n",
    "    'CNN',\n",
    "    'SVC',\n",
    "    'GaussianNB',\n",
    "    'LogisticRegression',\n",
    "    'RandomForestClassifier'\n",
    "]\n",
    "\n",
    "trait_names   = ['cEXT' , 'cNEU' , 'cAGR' , 'cCON' , 'cOPN']"
   ]
  },
  {
   "cell_type": "code",
   "execution_count": 9,
   "metadata": {},
   "outputs": [],
   "source": [
    "for model in models:\n",
    "    tweets_preds = file_reader('result/preds_'+model+'.csv')\n",
    "    tweets  = file_reader('processed_datasets/tweets_processed.csv')\n",
    "    \n",
    "    personality_change_dict = {}\n",
    "    personality_change_stats = {}\n",
    "    persons = tweets.index\n",
    "\n",
    "    for trait in trait_names:\n",
    "\n",
    "        temp_dict = {}\n",
    "        temp_dict['-1'] = []\n",
    "        temp_dict['0']  = []\n",
    "        temp_dict['1']  = []\n",
    "\n",
    "        for i in range( len(persons) ):\n",
    "            no = tweets_preds['post_'+trait][i] - tweets_preds['pre_'+trait][i]\n",
    "            temp_dict[ str(no) ].append( persons[i] )\n",
    "\n",
    "        temp_dict2 = {}\n",
    "        temp_dict2['pre_1_to_post_0']  = temp_dict['-1']\n",
    "        temp_dict2['no_change']         = temp_dict['0']\n",
    "        temp_dict2['pre_0_to_post_1']  = temp_dict['1']\n",
    "\n",
    "        temp_dict3 = {}\n",
    "        temp_dict3['pre_1_to_post_0']  = len(temp_dict['-1'])\n",
    "        temp_dict3['no_change']         = len(temp_dict['0'])\n",
    "        temp_dict3['pre_0_to_post_1']  = len(temp_dict['1'])\n",
    "\n",
    "        personality_change_dict[trait] = temp_dict2 \n",
    "        personality_change_stats[trait] = temp_dict3\n",
    "        \n",
    "    personality_hist_stats = { 0 : 0,1 : 0,2 : 0,3 : 0,4 : 0,5 : 0 }\n",
    "\n",
    "    for i in tweets_preds.index:\n",
    "        t_count = 0;\n",
    "        for trait in trait_names:\n",
    "            if( tweets_preds['pre_'+trait][i] != tweets_preds['post_'+trait][i] ):\n",
    "                t_count = t_count + 1;\n",
    "        personality_hist_stats[t_count] = personality_hist_stats[t_count] + 1\n",
    "        \n",
    "    out_result = 'result/'\n",
    "\n",
    "    import json\n",
    "    import os\n",
    "    if( not os.path.isdir(out_result + model) ):\n",
    "        os.mkdir( out_result + model )\n",
    "    with open( out_result + model + '/tweets_change_persons.json', 'w') as outfile:\n",
    "                json.dump(personality_change_dict, outfile)\n",
    "    with open( out_result + model + '/change_stats.json', 'w') as outfile:\n",
    "                json.dump(personality_change_stats, outfile)\n",
    "    with open( out_result + model + '/count_stats.json', 'w') as outfile:\n",
    "                json.dump(personality_hist_stats, outfile)\n",
    "    tweets_preds.to_csv( out_result + model + '/tweets_personality_final.csv')"
   ]
  },
  {
   "cell_type": "code",
   "execution_count": null,
   "metadata": {},
   "outputs": [],
   "source": []
  },
  {
   "cell_type": "code",
   "execution_count": null,
   "metadata": {},
   "outputs": [],
   "source": [
    "def plot_graphs(history, trait, str1, str2):\n",
    "    \n",
    "    plt.rcParams[\"figure.figsize\"] = (20,8)\n",
    "    fig,(a,b) =  plt.subplots(1,2)\n",
    "    \n",
    "    a.plot( history.history[str1] )\n",
    "    a.plot( history.history['val_'+str1] )\n",
    "    a.legend([str1,'val_'+str1])\n",
    "    plt.title(trait)\n",
    "    b.plot( history.history[str2] )\n",
    "    b.plot( history.history['val_'+str2] )\n",
    "    b.legend([str2,'val_'+str2])\n",
    "\n",
    "    plt.show() "
   ]
  },
  {
   "cell_type": "code",
   "execution_count": null,
   "metadata": {},
   "outputs": [],
   "source": []
  },
  {
   "cell_type": "code",
   "execution_count": null,
   "metadata": {},
   "outputs": [],
   "source": []
  }
 ],
 "metadata": {
  "kernelspec": {
   "display_name": "Python 3",
   "language": "python",
   "name": "python3"
  },
  "language_info": {
   "codemirror_mode": {
    "name": "ipython",
    "version": 3
   },
   "file_extension": ".py",
   "mimetype": "text/x-python",
   "name": "python",
   "nbconvert_exporter": "python",
   "pygments_lexer": "ipython3",
   "version": "3.7.9"
  }
 },
 "nbformat": 4,
 "nbformat_minor": 4
}
