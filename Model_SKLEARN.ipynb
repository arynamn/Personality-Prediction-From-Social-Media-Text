{
 "cells": [
  {
   "cell_type": "code",
   "execution_count": 5,
   "metadata": {},
   "outputs": [],
   "source": [
    "import pandas as pd\n",
    "import numpy as np\n",
    "\n",
    "try:\n",
    "    import gensim\n",
    "except:\n",
    "    !pip install gensim\n",
    "    import gensim\n",
    "    \n",
    "try:\n",
    "    import keras\n",
    "except:\n",
    "    !pip install tensorflow\n",
    "    !pip install keras\n",
    "    import keras\n",
    "    \n",
    "try:\n",
    "    from sklearn.model_selection import train_test_split\n",
    "except:\n",
    "    !pip install sklearn\n",
    "    from sklearn.model_selection import train_test_split\n",
    "\n",
    "try:\n",
    "    import matplotlib.pyplot as plt\n",
    "except:\n",
    "    !pip install matplotlib\n",
    "    import matplotlib.pyplot as plt\n",
    "    \n",
    "from keras.preprocessing.text import Tokenizer\n",
    "from keras.preprocessing.sequence import pad_sequences\n",
    "from sklearn.metrics import accuracy_score\n",
    "from sklearn.ensemble import RandomForestClassifier\n",
    "from sklearn.naive_bayes import GaussianNB\n",
    "from sklearn.linear_model import LogisticRegression\n",
    "from sklearn import svm"
   ]
  },
  {
   "cell_type": "code",
   "execution_count": 6,
   "metadata": {},
   "outputs": [],
   "source": [
    "def file_reader(file_location):\n",
    "    if(file_location.endswith('csv')):\n",
    "        return pd.read_csv( file_location , engine = 'python', index_col=0)\n",
    "    elif (file_location.endswith('tsv')):\n",
    "        return pd.read_csv( file_location , engine = 'python' ,sep = '\\t')"
   ]
  },
  {
   "cell_type": "code",
   "execution_count": 7,
   "metadata": {},
   "outputs": [],
   "source": [
    "def read_dataset( file_location ):\n",
    "    df = file_reader(file_location)\n",
    "    token_list  = []\n",
    "    for i in range( len( df ) ):\n",
    "        token_list.append( df['TEXT'][i].split() )\n",
    "    df['TOKENS'] = token_list\n",
    "    return df"
   ]
  },
  {
   "cell_type": "code",
   "execution_count": 11,
   "metadata": {},
   "outputs": [],
   "source": [
    "def tokens_to_sequence( tokenizer , texts , max_length ):\n",
    "    sequences   = tokenizer.texts_to_sequences( texts )\n",
    "    padded_data = pad_sequences( sequences , maxlen=max_length , padding='post' )\n",
    "    return padded_data\n",
    "    \n",
    "def tokenize_dataset(df, max_length):\n",
    "    num_words   = len(sorted(set([word for tok in df['TOKENS'] for word in tok])))\n",
    "    tokenizer   = Tokenizer( num_words=num_words, lower=True, char_level=False , oov_token = \"<OOV>\")\n",
    "    tokenizer.fit_on_texts( df['TEXT'].tolist() )\n",
    "    return (tokenizer, num_words)\n",
    "\n",
    "def get_embeddings(word_index):\n",
    "    word2vec_path = 'input_files/GoogleNews-vectors-negative300.bin'\n",
    "    word2vec      = gensim.models.KeyedVectors.load_word2vec_format(word2vec_path, binary=True)\n",
    "    embeddings = np.zeros( (len(word_index)+1, embedding_dim))\n",
    "    for word,index in word_index.items():\n",
    "        if word in word2vec :\n",
    "            embeddings[index,:] = word2vec[word] \n",
    "    del word2vec\n",
    "    return embeddings\n",
    "\n",
    "def embedded_values(data, embeddings):\n",
    "    emb = []\n",
    "    for value in data:\n",
    "        t = np.array( np.mean([embeddings[w] for w in value if w < len(embeddings)] or [np.zeros(300)], axis=0))\n",
    "        emb.append(t)\n",
    "    return np.array(emb)"
   ]
  },
  {
   "cell_type": "code",
   "execution_count": null,
   "metadata": {},
   "outputs": [],
   "source": []
  },
  {
   "cell_type": "code",
   "execution_count": null,
   "metadata": {},
   "outputs": [],
   "source": []
  },
  {
   "cell_type": "code",
   "execution_count": 12,
   "metadata": {},
   "outputs": [],
   "source": [
    "inp = '3_data_preprocessed/'\n",
    "trait_names = ['cEXT' , 'cNEU' , 'cAGR' , 'cCON' , 'cOPN']\n",
    "sklearn_models = [\n",
    "    svm.SVC(kernel='rbf', gamma = 1.0 , C = 10),\n",
    "    GaussianNB(priors=[0.5,0.5]),\n",
    "    LogisticRegression(),\n",
    "    RandomForestClassifier(max_depth=2, random_state=0)\n",
    "]\n",
    "max_length = 300\n",
    "embedding_dim = 300"
   ]
  },
  {
   "cell_type": "code",
   "execution_count": 13,
   "metadata": {},
   "outputs": [],
   "source": [
    "df_essay             = read_dataset( 'processed_datasets/essays.csv' )\n",
    "tokenizer, num_words = tokenize_dataset(df_essay, max_length)\n",
    "embeddings           = get_embeddings(tokenizer.word_index)\n",
    "essay_sequences      = tokens_to_sequence(tokenizer, df_essay['TEXT'], max_length)\n",
    "X_Train              = embedded_values(essay_sequences, embeddings)"
   ]
  },
  {
   "cell_type": "code",
   "execution_count": 14,
   "metadata": {},
   "outputs": [],
   "source": [
    "df_tweets           = file_reader( 'processed_datasets/tweets_processed.csv')\n",
    "pre_tweet_seq    = tokens_to_sequence(tokenizer, df_tweets['PRETEXT'], max_length )\n",
    "post_tweet_seq   = tokens_to_sequence(tokenizer, df_tweets['POSTTEXT'], max_length )"
   ]
  },
  {
   "cell_type": "code",
   "execution_count": null,
   "metadata": {},
   "outputs": [],
   "source": []
  },
  {
   "cell_type": "code",
   "execution_count": 18,
   "metadata": {},
   "outputs": [
    {
     "name": "stdout",
     "output_type": "stream",
     "text": [
      "SVC\n",
      "GaussianNB\n",
      "LogisticRegression\n",
      "RandomForestClassifier\n"
     ]
    }
   ],
   "source": [
    "for model in sklearn_models:\n",
    "    model_name = type(model).__name__\n",
    "    print(model_name)\n",
    "    \n",
    "    df_preds = pd.DataFrame()\n",
    "    df_preds['PERSON'] = df_tweets.index\n",
    "    for trait in trait_names:\n",
    "        scores = model.fit(X_Train, df_essay[trait])\n",
    "        print()\n",
    "        df_preds['pre_'+trait]  = model.predict(pre_tweet_seq)\n",
    "        df_preds['post_'+trait] = model.predict(pre_tweet_seq)\n",
    "        \n",
    "    df_preds.to_csv('result/preds_'+model_name+'.csv')"
   ]
  },
  {
   "cell_type": "code",
   "execution_count": null,
   "metadata": {},
   "outputs": [],
   "source": []
  }
 ],
 "metadata": {
  "kernelspec": {
   "display_name": "Python 3",
   "language": "python",
   "name": "python3"
  },
  "language_info": {
   "codemirror_mode": {
    "name": "ipython",
    "version": 3
   },
   "file_extension": ".py",
   "mimetype": "text/x-python",
   "name": "python",
   "nbconvert_exporter": "python",
   "pygments_lexer": "ipython3",
   "version": "3.7.9"
  }
 },
 "nbformat": 4,
 "nbformat_minor": 4
}
